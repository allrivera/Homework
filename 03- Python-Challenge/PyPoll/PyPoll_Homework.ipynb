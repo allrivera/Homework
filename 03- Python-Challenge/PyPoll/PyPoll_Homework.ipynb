{
 "cells": [
  {
   "cell_type": "code",
   "execution_count": 1,
   "metadata": {},
   "outputs": [],
   "source": [
    "import os\n",
    "import csv"
   ]
  },
  {
   "cell_type": "code",
   "execution_count": 2,
   "metadata": {},
   "outputs": [],
   "source": [
    "#Create the path\n",
    "path = os.path.join('election_data.csv')"
   ]
  },
  {
   "cell_type": "code",
   "execution_count": 3,
   "metadata": {},
   "outputs": [
    {
     "name": "stdout",
     "output_type": "stream",
     "text": [
      "3521001\n"
     ]
    }
   ],
   "source": [
    "#open the path\n",
    "with open(path) as election_data_csv:\n",
    "    csvreader = csv.reader(election_data_csv, delimiter=',')\n",
    "\n",
    "    # tell pandas that the header is in the first row first in order to skip it from calculations \n",
    "    header_row = next(election_data_csv)\n",
    "\n",
    "\n",
    "    #Calculate the total number of votes cast and\n",
    "    #create a varaible of rows which becomes the total votes cast at the end, zero to start\n",
    "    row_total_votes_cast = 0\n",
    "\n",
    "    # create a blank dictionary to compile the total votes each candidate receives\n",
    "    dict_of_total_votes = {}\n",
    "\n",
    "    #create a blank list to write to csv at the final step\n",
    "    pypoll_results = []\n",
    "\n",
    "    #for loop to add up all the rows cast\n",
    "    for row in csvreader:\n",
    "\n",
    "        row_total_votes_cast += 1\n",
    "\n",
    "    # determine if all the candidates are dictionary keys, \n",
    "\n",
    "        if row[2] not in dict_of_total_votes.keys():\n",
    "            dict_of_total_votes[row[2]] = 1\n",
    "        #use else if they are not - count the votes and add them back into the total votes \n",
    "        #row[2] has the candidates (like a column)\n",
    "        else:\n",
    "            dict_of_total_votes[row[2]] += 1      \n",
    "print(row_total_votes_cast)"
   ]
  },
  {
   "cell_type": "code",
   "execution_count": 4,
   "metadata": {},
   "outputs": [
    {
     "name": "stdout",
     "output_type": "stream",
     "text": [
      "Election Results\n",
      "_______________________________\n",
      "Total Votes: 3521001\n",
      "_______________________________\n",
      "Khan 63.000% ( 2218231 )\n",
      "Correy 20.000% ( 704200 )\n",
      "Li 14.000% ( 492940 )\n",
      "O'Tooley 3.000% ( 105630 )\n",
      "_______________________________\n",
      "Winner: Khan\n",
      "_______________________________\n"
     ]
    }
   ],
   "source": [
    "print(\"Election Results\")\n",
    "print(\"_______________________________\")\n",
    "print(f\"Total Votes: {(row_total_votes_cast)}\")\n",
    "print(\"_______________________________\")\n",
    "\n",
    "#The percentage of votes each candidate won\n",
    "#calculate and print the percentage and total of votes next to each candidates name\n",
    "\n",
    "for candidates in dict_of_total_votes.keys():\n",
    "    #divide the votes cast by each candidate by the total votes cast\n",
    "    #create a tuple of candidate results\n",
    "    candidate_results = candidates, \"{:.3%}\".format(dict_of_total_votes[candidates] / row_total_votes_cast), \"(\", dict_of_total_votes[candidates], \")\"\n",
    "    print(candidates, \"{:.3%}\".format(dict_of_total_votes[candidates] / row_total_votes_cast), \"(\", dict_of_total_votes[candidates], \")\")\n",
    "\n",
    "#The winner of the election based on popular vote.\n",
    "#the maximum number of votes by candidate dictionary determines the winner\n",
    "winner = max(dict_of_total_votes, key=dict_of_total_votes.get)\n",
    "\n",
    "print(\"_______________________________\")\n",
    "print(f\"Winner: {(winner)}\")\n",
    "print(\"_______________________________\")\n",
    "\n",
    "#append to the list to zip\n",
    "pypoll_results.append(\"Election Results\")\n",
    "pypoll_results.append(f\"Total Votes: {(row_total_votes_cast)}\")\n",
    "pypoll_results.append(candidate_results)\n",
    "pypoll_results.append(f\"Winner: {(winner)}\")\n"
   ]
  },
  {
   "cell_type": "code",
   "execution_count": 5,
   "metadata": {},
   "outputs": [
    {
     "name": "stdout",
     "output_type": "stream",
     "text": [
      "Election Results  \n",
      "_______________________________   \n",
      "Total Votes: 3521001   \n",
      "_______________________________   \n",
      "Total: (\"O'Tooley\", '3.000%', '(', 105630, ')')  \n",
      "Winner: Khan   \n",
      "\n"
     ]
    }
   ],
   "source": [
    "#create file to export\n",
    "\n",
    "output = (\n",
    "    f\"Election Results  \\n\"\n",
    "    f\"_______________________________   \\n\" \n",
    "    f\"Total Votes: {row_total_votes_cast}   \\n\"\n",
    "    f\"_______________________________   \\n\" \n",
    "    f\"Total: {candidate_results}  \\n\"\n",
    "    f\"Winner: {(winner)}   \\n\"\n",
    "    )\n",
    "print(output)"
   ]
  },
  {
   "cell_type": "code",
   "execution_count": 6,
   "metadata": {},
   "outputs": [],
   "source": [
    "#export summary\n",
    "file_to_output = os.path.join(\"election_results.txt\")\n",
    "with open(file_to_output, \"w\") as txt_file:\n",
    "    txt_file.write(output)"
   ]
  },
  {
   "cell_type": "code",
   "execution_count": null,
   "metadata": {},
   "outputs": [],
   "source": []
  },
  {
   "cell_type": "code",
   "execution_count": null,
   "metadata": {},
   "outputs": [],
   "source": []
  }
 ],
 "metadata": {
  "kernelspec": {
   "display_name": "Python 3",
   "language": "python",
   "name": "python3"
  },
  "language_info": {
   "codemirror_mode": {
    "name": "ipython",
    "version": 3
   },
   "file_extension": ".py",
   "mimetype": "text/x-python",
   "name": "python",
   "nbconvert_exporter": "python",
   "pygments_lexer": "ipython3",
   "version": "3.7.6"
  }
 },
 "nbformat": 4,
 "nbformat_minor": 4
}
